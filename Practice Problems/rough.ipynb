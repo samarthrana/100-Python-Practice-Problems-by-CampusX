{
 "cells": [
  {
   "cell_type": "code",
   "execution_count": null,
   "metadata": {},
   "outputs": [],
   "source": [
    "L = [1, 2, 3, 4]"
   ]
  },
  {
   "cell_type": "code",
   "execution_count": null,
   "metadata": {},
   "outputs": [
    {
     "data": {
      "text/plain": [
       "1\n",
       "2\n",
       "3\n",
       "4\n"
      ]
     },
     "metadata": {},
     "output_type": "display_data"
    }
   ],
   "source": [
    "for i in L:\n",
    "    print(i)"
   ]
  },
  {
   "cell_type": "code",
   "execution_count": null,
   "metadata": {},
   "outputs": [
    {
     "data": {
      "text/plain": [
       "Prime\n"
      ]
     },
     "metadata": {},
     "output_type": "display_data"
    }
   ],
   "source": [
    "# Prime number\n",
    "num = int(input())\n",
    "for i in range(2, num//2 + 1):\n",
    "\n",
    "    flag = 0\n",
    "    if num%i ==0:\n",
    "        flag = 1\n",
    "    else:\n",
    "        flag = 0\n",
    "if flag == 0:\n",
    "    print(\"Prime\")"
   ]
  },
  {
   "cell_type": "code",
   "execution_count": null,
   "metadata": {},
   "outputs": [
    {
     "data": {
      "text/plain": [
       "13\n"
      ]
     },
     "metadata": {},
     "output_type": "display_data"
    }
   ],
   "source": [
    "# Print the first 20 numbers of a Fibonacci series  \n",
    "\n",
    "def fibonacci(num):\n",
    "\n",
    "    if num == 0 or num == 1:\n",
    "        return 1\n",
    "    else:\n",
    "        return fibonacci(num-2) + fibonacci(num-1)\n",
    "\n",
    "print(fibonacci(6))"
   ]
  },
  {
   "cell_type": "code",
   "execution_count": null,
   "metadata": {},
   "outputs": [
    {
     "data": {
      "text/plain": [
       "3\n"
      ]
     },
     "metadata": {},
     "output_type": "display_data"
    }
   ],
   "source": [
    "fibonacci(3)"
   ]
  },
  {
   "cell_type": "code",
   "execution_count": null,
   "metadata": {},
   "outputs": [
    {
     "data": {
      "text/plain": [
       "Traceback (most recent call last):\n",
       "  File \"c:\\Users\\DELL\\.vscode\\extensions\\ms-python.python-2024.16.1-win32-x64\\python_files\\python_server.py\", line 130, in exec_user_input\n",
       "    retval = callable_(user_input, user_globals)\n",
       "             ^^^^^^^^^^^^^^^^^^^^^^^^^^^^^^^^^^^\n",
       "  File \"<string>\", line 19, in <module>\n",
       "  File \"<string>\", line 10, in CI\n",
       "TypeError: 'int' object is not callable\n",
       "\n"
      ]
     },
     "metadata": {},
     "output_type": "display_data"
    }
   ],
   "source": [
    "# Coumpound Interest\n",
    "\n",
    "\n",
    "def CI(P, r, n, t):\n",
    "\n",
    "    Amount = 0\n",
    "\n",
    "    if n > 0:\n",
    "        \n",
    "        Amount = P((1+r/n)**n)**t\n",
    "        comp = Amount - P\n",
    "        return comp\n",
    "\n",
    "P = int(input())\n",
    "r = float(input())\n",
    "n = int(input())\n",
    "t = int(input())\n",
    "\n",
    "var = CI(P, r, n, t)\n",
    "print(var)\n"
   ]
  },
  {
   "cell_type": "code",
   "execution_count": null,
   "metadata": {},
   "outputs": [
    {
     "data": {
      "text/plain": [
       "615\n"
      ]
     },
     "metadata": {},
     "output_type": "display_data"
    }
   ],
   "source": [
    "n = int(input())\n",
    "\n",
    "result = n + (n*10 + n) + ((n*100) + (n*10) + n)\n",
    "\n",
    "print(result)"
   ]
  },
  {
   "cell_type": "code",
   "execution_count": null,
   "metadata": {},
   "outputs": [
    {
     "data": {
      "text/plain": [
       "Number of digits = 6\n"
      ]
     },
     "metadata": {},
     "output_type": "display_data"
    }
   ],
   "source": [
    "num = int(input())\n",
    "str_num = str(num)\n",
    "count = 0\n",
    "for i in str_num:\n",
    "    count += 1\n",
    "\n",
    "print(\"Number of digits =\", count)"
   ]
  },
  {
   "cell_type": "code",
   "execution_count": null,
   "metadata": {},
   "outputs": [
    {
     "data": {
      "text/plain": [
       "\n",
       "*\n",
       "**\n",
       "***\n",
       "****\n",
       "*****\n"
      ]
     },
     "metadata": {},
     "output_type": "display_data"
    }
   ],
   "source": [
    "for i in range(6):\n",
    "    for j in range(6):\n",
    "\n",
    "        if i == j:\n",
    "            print('*'*j)\n",
    "        else:\n",
    "            pass"
   ]
  },
  {
   "cell_type": "code",
   "execution_count": null,
   "metadata": {},
   "outputs": [
    {
     "data": {
      "text/plain": [
       "**\n"
      ]
     },
     "metadata": {},
     "output_type": "display_data"
    }
   ],
   "source": [
    "print('*'*2)"
   ]
  },
  {
   "cell_type": "code",
   "execution_count": null,
   "metadata": {},
   "outputs": [
    {
     "data": {
      "text/plain": [
       "Help on class range in module builtins:\n",
       "\n",
       "class range(object)\n",
       " |  range(stop) -> range object\n",
       " |  range(start, stop[, step]) -> range object\n",
       " |\n",
       " |  Return an object that produces a sequence of integers from start (inclusive)\n",
       " |  to stop (exclusive) by step.  range(i, j) produces i, i+1, i+2, ..., j-1.\n",
       " |  start defaults to 0, and stop is omitted!  range(4) produces 0, 1, 2, 3.\n",
       " |  These are exactly the valid indices for a list of 4 elements.\n",
       " |  When step is given, it specifies the increment (or decrement).\n",
       " |\n",
       " |  Methods defined here:\n",
       " |\n",
       " |  __bool__(self, /)\n",
       " |      True if self else False\n",
       " |\n",
       " |  __contains__(self, key, /)\n",
       " |      Return bool(key in self).\n",
       " |\n",
       " |  __eq__(self, value, /)\n",
       " |      Return self==value.\n",
       " |\n",
       " |  __ge__(self, value, /)\n",
       " |      Return self>=value.\n",
       " |\n",
       " |  __getattribute__(self, name, /)\n",
       " |      Return getattr(self, name).\n",
       " |\n",
       " |  __getitem__(self, key, /)\n",
       " |      Return self[key].\n",
       " |\n",
       " |  __gt__(self, value, /)\n",
       " |      Return self>value.\n",
       " |\n",
       " |  __hash__(self, /)\n",
       " |      Return hash(self).\n",
       " |\n",
       " |  __iter__(self, /)\n",
       " |      Implement iter(self).\n",
       " |\n",
       " |  __le__(self, value, /)\n",
       " |      Return self<=value.\n",
       " |\n",
       " |  __len__(self, /)\n",
       " |      Return len(self).\n",
       " |\n",
       " |  __lt__(self, value, /)\n",
       " |      Return self<value.\n",
       " |\n",
       " |  __ne__(self, value, /)\n",
       " |      Return self!=value.\n",
       " |\n",
       " |  __reduce__(...)\n",
       " |      Helper for pickle.\n",
       " |\n",
       " |  __repr__(self, /)\n",
       " |      Return repr(self).\n",
       " |\n",
       " |  __reversed__(...)\n",
       " |      Return a reverse iterator.\n",
       " |\n",
       " |  count(...)\n",
       " |      rangeobject.count(value) -> integer -- return number of occurrences of value\n",
       " |\n",
       " |  index(...)\n",
       " |      rangeobject.index(value) -> integer -- return index of value.\n",
       " |      Raise ValueError if the value is not present.\n",
       " |\n",
       " |  ----------------------------------------------------------------------\n",
       " |  Static methods defined here:\n",
       " |\n",
       " |  __new__(*args, **kwargs)\n",
       " |      Create and return a new object.  See help(type) for accurate signature.\n",
       " |\n",
       " |  ----------------------------------------------------------------------\n",
       " |  Data descriptors defined here:\n",
       " |\n",
       " |  start\n",
       " |\n",
       " |  step\n",
       " |\n",
       " |  stop\n",
       "\n"
      ]
     },
     "metadata": {},
     "output_type": "display_data"
    }
   ],
   "source": [
    "help(range)"
   ]
  },
  {
   "cell_type": "code",
   "execution_count": null,
   "metadata": {},
   "outputs": [
    {
     "data": {
      "text/plain": [
       "* \n",
       "* * \n",
       "* * * \n",
       "* * * * \n"
      ]
     },
     "metadata": {},
     "output_type": "display_data"
    }
   ],
   "source": [
    "for i in range(1, 5):\n",
    "    for j in range(0, i):\n",
    "        print('*', end = \" \")\n",
    "    print(\"\")\n",
    "    \n",
    "        "
   ]
  },
  {
   "cell_type": "code",
   "execution_count": null,
   "metadata": {},
   "outputs": [
    {
     "data": {
      "text/plain": [
       "\n"
      ]
     },
     "metadata": {},
     "output_type": "display_data"
    }
   ],
   "source": [
    "print(\"\")"
   ]
  },
  {
   "cell_type": "code",
   "execution_count": null,
   "metadata": {},
   "outputs": [
    {
     "data": {
      "text/plain": [
       "* * * "
      ]
     },
     "metadata": {},
     "output_type": "display_data"
    }
   ],
   "source": [
    "for i in range(3):\n",
    "\n",
    "    print(\"*\", end= \" \")\n",
    "# print(\"\")\n",
    "# print(\"adfasdfasdf\")"
   ]
  },
  {
   "cell_type": "code",
   "execution_count": null,
   "metadata": {},
   "outputs": [
    {
     "data": {
      "text/plain": [
       "* * * * \n",
       "* * * \n",
       "* * \n",
       "* \n"
      ]
     },
     "metadata": {},
     "output_type": "display_data"
    }
   ],
   "source": [
    "row = int(input(\"Enter nos rows: \"))\n",
    "\n",
    "# for i in range(1, row+1):\n",
    "#     for j in range(0, i):\n",
    "\n",
    "#         print(\"*\", end = \" \")\n",
    "\n",
    "#     print(\"\")\n",
    "\n",
    "for k in range(row, 1, -1):\n",
    "    for l in range(0, k-1):\n",
    "        print(\"*\", end = \" \")\n",
    "    print(\"\")"
   ]
  },
  {
   "cell_type": "code",
   "execution_count": null,
   "metadata": {},
   "outputs": [
    {
     "data": {
      "text/plain": [
       "        * \n",
       "      * * * \n",
       "    * * * * * \n",
       "  * * * * * * * \n",
       "* * * * * * * * * \n"
      ]
     },
     "metadata": {},
     "output_type": "display_data"
    }
   ],
   "source": [
    "rows = int(input(\"Enter number of rows: \"))\n",
    "cols = 2*rows - 1\n",
    "\n",
    "for i in range(1, rows + 1):\n",
    "    for j in range(rows - i):\n",
    "\n",
    "        print(\" \", end = \" \")\n",
    "\n",
    "    for k in range(1, 2*i):\n",
    "        print(\"*\", end = \" \")\n",
    "    print(\"\")"
   ]
  },
  {
   "cell_type": "code",
   "execution_count": null,
   "metadata": {},
   "outputs": [
    {
     "data": {
      "text/plain": [
       "0 1 2 3 4 0\n",
       "0 1 2 3 4 1\n",
       "0 1 2 3 4 2\n",
       "0 1 2 3 4 3\n",
       "0 1 2 3 4 4\n"
      ]
     },
     "metadata": {},
     "output_type": "display_data"
    }
   ],
   "source": [
    "for j in range(5):\n",
    "\n",
    "    for i in range(5):\n",
    "        print(i,end = \" \")\n",
    "    \n",
    "    print(j)"
   ]
  },
  {
   "cell_type": "code",
   "execution_count": null,
   "metadata": {},
   "outputs": [
    {
     "data": {
      "text/plain": [
       "0\n",
       "1\n",
       "2\n",
       "3\n",
       "4\n"
      ]
     },
     "metadata": {},
     "output_type": "display_data"
    }
   ],
   "source": [
    "for i in range(5):\n",
    "    print(i)"
   ]
  },
  {
   "cell_type": "code",
   "execution_count": null,
   "metadata": {},
   "outputs": [
    {
     "data": {
      "text/plain": [
       "    *\n",
       "   ***\n",
       "  *****\n",
       " *******\n",
       "*********\n"
      ]
     },
     "metadata": {},
     "output_type": "display_data"
    }
   ],
   "source": [
    "n = int(input())\n",
    "\n",
    "for i in range(1, n+1):\n",
    "    for j in range(0, n-i):\n",
    "        print(\" \", end = \"\")\n",
    "    \n",
    "    for k in range(1, 2*i):\n",
    "        print(\"*\", end= \"\")\n",
    "    print(\"\")"
   ]
  },
  {
   "cell_type": "code",
   "execution_count": null,
   "metadata": {},
   "outputs": [],
   "source": [
    "# Write a program to print the following pattern\n",
    "# 1\n",
    "# 1 2 1\n",
    "# 1 2 3 2 1\n",
    "# 1 2 3 4 3 2 1\n",
    "# 1 2 3 4 5 4 3 2 1"
   ]
  },
  {
   "cell_type": "code",
   "execution_count": null,
   "metadata": {},
   "outputs": [
    {
     "data": {
      "text/plain": [
       "1  \n",
       "1 2 1  \n",
       "1 2 3 2 1  \n",
       "1 2 3 4 3 2 1  \n",
       "1 2 3 4 5 4 3 2 1  \n"
      ]
     },
     "metadata": {},
     "output_type": "display_data"
    }
   ],
   "source": [
    "for i in range(1, 6):\n",
    "\n",
    "    for j in range(1, i+1):\n",
    "        print(j, end = \" \")\n",
    "\n",
    "    for k in range(i-1,0, -1):\n",
    "        print(k, end = \" \")\n",
    "        \n",
    "    print(\" \")\n"
   ]
  },
  {
   "cell_type": "code",
   "execution_count": null,
   "metadata": {},
   "outputs": [
    {
     "data": {
      "text/plain": [
       "Traceback (most recent call last):\n",
       "  File \"c:\\Users\\DELL\\.vscode\\extensions\\ms-python.python-2024.16.1-win32-x64\\python_files\\python_server.py\", line 130, in exec_user_input\n",
       "    retval = callable_(user_input, user_globals)\n",
       "             ^^^^^^^^^^^^^^^^^^^^^^^^^^^^^^^^^^^\n",
       "  File \"<string>\", line 2\n",
       "    2 3\n",
       "      ^\n",
       "SyntaxError: invalid syntax\n",
       "\n"
      ]
     },
     "metadata": {},
     "output_type": "display_data"
    }
   ],
   "source": [
    "# 1\n",
    "# 2 3\n",
    "# 4 5 6\n",
    "# 7 8 9 10\n"
   ]
  },
  {
   "cell_type": "code",
   "execution_count": null,
   "metadata": {},
   "outputs": [
    {
     "data": {
      "text/plain": [
       "1 \n",
       "2 3 \n",
       "4 5 6 \n",
       "7 8 9 10 \n"
      ]
     },
     "metadata": {},
     "output_type": "display_data"
    }
   ],
   "source": [
    "num = 1\n",
    "\n",
    "for i in range(1, 5):\n",
    "    for j in range(0, i):\n",
    "        print(num, end = \" \")\n",
    "        num += 1\n",
    "\n",
    "    print(\"\")\n"
   ]
  },
  {
   "cell_type": "code",
   "execution_count": null,
   "metadata": {},
   "outputs": [],
   "source": []
  }
 ],
 "metadata": {
  "language_info": {
   "name": "python"
  }
 },
 "nbformat": 4,
 "nbformat_minor": 2
}
